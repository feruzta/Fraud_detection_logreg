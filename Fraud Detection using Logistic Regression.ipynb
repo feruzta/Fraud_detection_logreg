{
 "cells": [
  {
   "cell_type": "markdown",
   "id": "9de43bd3",
   "metadata": {},
   "source": [
    "# Fraud Detection using Logistic Regression"
   ]
  },
  {
   "cell_type": "markdown",
   "id": "5403c2db",
   "metadata": {},
   "source": [
    "Fraud is one of the major issues we come up majorly in banks, life insurance, health insurance, and many others. These major frauds are dependent on the person who is trying to sell you the fake product or service, if you are matured enough to decide what is wrong then you will never get into any fraud transactions. But one such fraud that has been increasing a lot these days is fraud in making payments. In this article, I will take you through a solution to fraud detection with machine learning.\n",
    "\n",
    "The dataset that I will use for this task can be easily downloaded from here. The dataset that I am using is transaction data for online purchases collected from an e-commerce retailer. The dataset contains more than 39000 transactions, each transaction contains 5 features that will describe the nature of the transactions. So let’s start with importing all the necessary libraries we need for Fraud Detection with Machine Learning:"
   ]
  },
  {
   "cell_type": "code",
   "execution_count": 5,
   "id": "e3022387",
   "metadata": {},
   "outputs": [],
   "source": [
    "import pandas as pd\n",
    "from sklearn.model_selection import train_test_split\n",
    "from sklearn.linear_model import LogisticRegression\n",
    "from sklearn.metrics import accuracy_score, confusion_matrix"
   ]
  },
  {
   "cell_type": "markdown",
   "id": "e01f0f4f",
   "metadata": {},
   "source": [
    "## Payment Fraud Detection Model"
   ]
  },
  {
   "cell_type": "markdown",
   "id": "b9027c4c",
   "metadata": {},
   "source": [
    "Fortunately, the dataset I am using is already structured very well with no missing values in it, and I don’t find any scope of data cleaning in it. So without wasting any time, I will dive into building our machine learning model. So, now I will start by importing the data:"
   ]
  },
  {
   "cell_type": "code",
   "execution_count": 6,
   "id": "5bef54b6",
   "metadata": {
    "scrolled": false
   },
   "outputs": [
    {
     "data": {
      "text/html": [
       "<div>\n",
       "<style scoped>\n",
       "    .dataframe tbody tr th:only-of-type {\n",
       "        vertical-align: middle;\n",
       "    }\n",
       "\n",
       "    .dataframe tbody tr th {\n",
       "        vertical-align: top;\n",
       "    }\n",
       "\n",
       "    .dataframe thead th {\n",
       "        text-align: right;\n",
       "    }\n",
       "</style>\n",
       "<table border=\"1\" class=\"dataframe\">\n",
       "  <thead>\n",
       "    <tr style=\"text-align: right;\">\n",
       "      <th></th>\n",
       "      <th>accountAgeDays</th>\n",
       "      <th>numItems</th>\n",
       "      <th>localTime</th>\n",
       "      <th>paymentMethod</th>\n",
       "      <th>paymentMethodAgeDays</th>\n",
       "      <th>label</th>\n",
       "    </tr>\n",
       "  </thead>\n",
       "  <tbody>\n",
       "    <tr>\n",
       "      <th>0</th>\n",
       "      <td>29</td>\n",
       "      <td>1</td>\n",
       "      <td>4.745402</td>\n",
       "      <td>paypal</td>\n",
       "      <td>28.204861</td>\n",
       "      <td>0</td>\n",
       "    </tr>\n",
       "    <tr>\n",
       "      <th>1</th>\n",
       "      <td>725</td>\n",
       "      <td>1</td>\n",
       "      <td>4.742303</td>\n",
       "      <td>storecredit</td>\n",
       "      <td>0.000000</td>\n",
       "      <td>0</td>\n",
       "    </tr>\n",
       "    <tr>\n",
       "      <th>2</th>\n",
       "      <td>845</td>\n",
       "      <td>1</td>\n",
       "      <td>4.921318</td>\n",
       "      <td>creditcard</td>\n",
       "      <td>0.000000</td>\n",
       "      <td>0</td>\n",
       "    </tr>\n",
       "    <tr>\n",
       "      <th>3</th>\n",
       "      <td>503</td>\n",
       "      <td>1</td>\n",
       "      <td>4.886641</td>\n",
       "      <td>creditcard</td>\n",
       "      <td>0.000000</td>\n",
       "      <td>0</td>\n",
       "    </tr>\n",
       "    <tr>\n",
       "      <th>4</th>\n",
       "      <td>2000</td>\n",
       "      <td>1</td>\n",
       "      <td>5.040929</td>\n",
       "      <td>creditcard</td>\n",
       "      <td>0.000000</td>\n",
       "      <td>0</td>\n",
       "    </tr>\n",
       "  </tbody>\n",
       "</table>\n",
       "</div>"
      ],
      "text/plain": [
       "   accountAgeDays  numItems  localTime paymentMethod  paymentMethodAgeDays  \\\n",
       "0              29         1   4.745402        paypal             28.204861   \n",
       "1             725         1   4.742303   storecredit              0.000000   \n",
       "2             845         1   4.921318    creditcard              0.000000   \n",
       "3             503         1   4.886641    creditcard              0.000000   \n",
       "4            2000         1   5.040929    creditcard              0.000000   \n",
       "\n",
       "   label  \n",
       "0      0  \n",
       "1      0  \n",
       "2      0  \n",
       "3      0  \n",
       "4      0  "
      ]
     },
     "execution_count": 6,
     "metadata": {},
     "output_type": "execute_result"
    }
   ],
   "source": [
    "df = pd.read_csv('datasets\\payment_fraud.csv')\n",
    "df.head()"
   ]
  },
  {
   "cell_type": "code",
   "execution_count": 10,
   "id": "d4fabb4d",
   "metadata": {
    "scrolled": true
   },
   "outputs": [
    {
     "data": {
      "text/plain": [
       "array(['paypal', 'storecredit', 'creditcard'], dtype=object)"
      ]
     },
     "execution_count": 10,
     "metadata": {},
     "output_type": "execute_result"
    }
   ],
   "source": [
    "df['paymentMethod'].unique()"
   ]
  },
  {
   "cell_type": "markdown",
   "id": "ba0ba563",
   "metadata": {},
   "source": [
    "because of `paymentMethod` variable are categorical <b>object</b>, so I would change it become numerical dummy variables using One-Hot Encoder."
   ]
  },
  {
   "cell_type": "code",
   "execution_count": 19,
   "id": "2c630892",
   "metadata": {},
   "outputs": [
    {
     "data": {
      "text/html": [
       "<div>\n",
       "<style scoped>\n",
       "    .dataframe tbody tr th:only-of-type {\n",
       "        vertical-align: middle;\n",
       "    }\n",
       "\n",
       "    .dataframe tbody tr th {\n",
       "        vertical-align: top;\n",
       "    }\n",
       "\n",
       "    .dataframe thead th {\n",
       "        text-align: right;\n",
       "    }\n",
       "</style>\n",
       "<table border=\"1\" class=\"dataframe\">\n",
       "  <thead>\n",
       "    <tr style=\"text-align: right;\">\n",
       "      <th></th>\n",
       "      <th>accountAgeDays</th>\n",
       "      <th>numItems</th>\n",
       "      <th>localTime</th>\n",
       "      <th>paymentMethodAgeDays</th>\n",
       "      <th>label</th>\n",
       "      <th>paymentMethod_credit card</th>\n",
       "      <th>paymentMethod_paypal</th>\n",
       "      <th>paymentMethod_store credit</th>\n",
       "    </tr>\n",
       "  </thead>\n",
       "  <tbody>\n",
       "    <tr>\n",
       "      <th>22578</th>\n",
       "      <td>2</td>\n",
       "      <td>1</td>\n",
       "      <td>4.057414</td>\n",
       "      <td>1.459028</td>\n",
       "      <td>0</td>\n",
       "      <td>1</td>\n",
       "      <td>0</td>\n",
       "      <td>0</td>\n",
       "    </tr>\n",
       "    <tr>\n",
       "      <th>18890</th>\n",
       "      <td>674</td>\n",
       "      <td>1</td>\n",
       "      <td>4.836982</td>\n",
       "      <td>0.000000</td>\n",
       "      <td>0</td>\n",
       "      <td>0</td>\n",
       "      <td>1</td>\n",
       "      <td>0</td>\n",
       "    </tr>\n",
       "    <tr>\n",
       "      <th>33816</th>\n",
       "      <td>105</td>\n",
       "      <td>1</td>\n",
       "      <td>4.524580</td>\n",
       "      <td>2.084722</td>\n",
       "      <td>0</td>\n",
       "      <td>1</td>\n",
       "      <td>0</td>\n",
       "      <td>0</td>\n",
       "    </tr>\n",
       "  </tbody>\n",
       "</table>\n",
       "</div>"
      ],
      "text/plain": [
       "       accountAgeDays  numItems  localTime  paymentMethodAgeDays  label  \\\n",
       "22578               2         1   4.057414              1.459028      0   \n",
       "18890             674         1   4.836982              0.000000      0   \n",
       "33816             105         1   4.524580              2.084722      0   \n",
       "\n",
       "       paymentMethod_credit card  paymentMethod_paypal  \\\n",
       "22578                          1                     0   \n",
       "18890                          0                     1   \n",
       "33816                          1                     0   \n",
       "\n",
       "       paymentMethod_store credit  \n",
       "22578                           0  \n",
       "18890                           0  \n",
       "33816                           0  "
      ]
     },
     "execution_count": 19,
     "metadata": {},
     "output_type": "execute_result"
    }
   ],
   "source": [
    "# Convert categorical feature into dummy variables with one-hot encoding\n",
    "df = pd.get_dummies(df, columns=['paymentMethod'])\n",
    "df.sample(3)"
   ]
  },
  {
   "cell_type": "markdown",
   "id": "da3978c9",
   "metadata": {},
   "source": [
    "Now, I will split the data into training and test sets:"
   ]
  },
  {
   "cell_type": "code",
   "execution_count": 24,
   "id": "c3ec32b5",
   "metadata": {},
   "outputs": [],
   "source": [
    "# Split dataset up into train and test sets\n",
    "X_train, X_test, y_train, y_test = train_test_split(\n",
    "    df.drop('label', axis=1), df['label'],\n",
    "    test_size=0.33, random_state=17)"
   ]
  },
  {
   "cell_type": "markdown",
   "id": "ba9f6f04",
   "metadata": {},
   "source": [
    "As this is a problem of binary classification, I will use a Logistic Regression algorithm, as it is one of the most powerful algorithms for a binary classification model. If you don’t know what Binary Classification means, you can learn it from here. Now let’s simply train the fraud detection model using logistic regression algorithm and have a look at the accuracy score that we will get by using this algorithm:"
   ]
  },
  {
   "cell_type": "code",
   "execution_count": 25,
   "id": "ccd982bc",
   "metadata": {},
   "outputs": [
    {
     "name": "stdout",
     "output_type": "stream",
     "text": [
      "1.0\n"
     ]
    }
   ],
   "source": [
    "clf = LogisticRegression().fit(X_train, y_train)\n",
    "\n",
    "# Make predictions on test set\n",
    "y_pred = clf.predict(X_test)\n",
    "from sklearn.metrics import accuracy_score\n",
    "print(accuracy_score(y_pred, y_test))"
   ]
  },
  {
   "cell_type": "markdown",
   "id": "f0bb3e21",
   "metadata": {},
   "source": [
    "Well, what was the last time when you got an accuracy of 100%. Our fraud detection model gave an accuracy of 100% by using the logistic regression algorithm."
   ]
  },
  {
   "cell_type": "markdown",
   "id": "debb64b7",
   "metadata": {},
   "source": [
    "## Evaluating the Fraud Detection Model"
   ]
  },
  {
   "cell_type": "markdown",
   "id": "11092a22",
   "metadata": {},
   "source": [
    "Now, let’s evaluate the performance of our model. I will use the confusion matrix algorithm to evaluate the performance of our model. We can use the confusion matrix algorithm with a one-line code only:"
   ]
  },
  {
   "cell_type": "code",
   "execution_count": 26,
   "id": "76d0ea2d",
   "metadata": {},
   "outputs": [
    {
     "name": "stdout",
     "output_type": "stream",
     "text": [
      "[[12753     0]\n",
      " [    0   190]]\n"
     ]
    }
   ],
   "source": [
    "# Compare test set predictions with ground truth labels\n",
    "print(confusion_matrix(y_test, y_pred))"
   ]
  },
  {
   "cell_type": "markdown",
   "id": "1d6aa683",
   "metadata": {},
   "source": [
    "So out of all the transaction in the dataset,190 transactions are correctly recognized as fraud, and 12753 transactions are recognized as not fraudulent transactions."
   ]
  }
 ],
 "metadata": {
  "kernelspec": {
   "display_name": "porto",
   "language": "python",
   "name": "porto"
  },
  "language_info": {
   "codemirror_mode": {
    "name": "ipython",
    "version": 3
   },
   "file_extension": ".py",
   "mimetype": "text/x-python",
   "name": "python",
   "nbconvert_exporter": "python",
   "pygments_lexer": "ipython3",
   "version": "3.9.7"
  }
 },
 "nbformat": 4,
 "nbformat_minor": 5
}
